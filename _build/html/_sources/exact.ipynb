{
 "cells": [
  {
   "cell_type": "markdown",
   "metadata": {},
   "source": [
    "# Exact Ising Model Computations for Small Lattices"
   ]
  },
  {
   "cell_type": "markdown",
   "metadata": {},
   "source": [
    "It will be helpful to have exact results at hand to benchmark our Monte Carlo techniques. To obtain these for small square lattices with $L = 2,3,4$, we enumerate the set of all $2^{L^2}$ spin configurations, define the partition function and other thermodynamic functions on this set, and compute corresponding thermal averages. \n",
    "\n",
    "It is additionally useful to compute the density of states in this fashion. The computation quickly becomes prohibitively costly for $L >5$. However, see this [article](https://journals.aps.org/prl/abstract/10.1103/PhysRevLett.76.78) on the exact density of states for square lattice nearest neighbor Ising model. See [link](https://spot.colorado.edu/%7Ebeale/MathematicaFiles/) for Mathematica notebooks which compute the exact results for a given $n \\times m$ lattice. See also this [stack exchange discussion](https://physics.stackexchange.com/questions/335631/ising-model-density-of-states) on enumerating the density of states for $d=1,2$."
   ]
  },
  {
   "cell_type": "markdown",
   "metadata": {},
   "source": [
    "For performing a maximum likelihood estimation of the temperature, we will need probablity and log probabilities of specific energies as well as samples of energies. We detail some of this below.\n",
    "\n",
    "The probabiltiy of a given energy observation is $p(E_k)=\\mathcal{Z}(\\beta)^{-1}\\exp(-\\beta E_k)$. Thus, for a random (independent) sample $\\{E_i\\}_{i=1,N}$, $p(\\{X_i\\})=\\mathcal{Z}(\\beta)^{-N}\\exp(-\\beta \\sum_{i=1}^N E_i)$. Or in terms of the sample mean, $p(\\bar{E})=\\mathcal{Z}(\\beta)^{-N}\\exp(-\\beta N \\bar{E})$. This is all well and good for non-degenerate systems, but there is degeracy here since there are multiple configurations (states) which correspond to the same energy. \n",
    "\n",
    "To account for this, we introduce a multiplicative factor $\\Omega(E)$ which counts the number of states with energy $E$:\n",
    "\n",
    "\\begin{eqnarray}\n",
    "p(E_k)=\\mathcal{Z}(\\beta)^{-1}\\sum_{E=E_k}\\exp(-\\beta E)=\\mathcal{Z}(\\beta)^{-1}\\Omega(E_k)\\exp(-\\beta E_k)\n",
    "\\end{eqnarray}\n",
    "\n",
    "So then the probability of measuring a sample $\\{E_i\\}_{i=1,N}$ becomes\n",
    "\n",
    "\\begin{eqnarray}\n",
    "p(\\bar{E})&=& \\Pi_{i=1}^N p(E_i)=\\mathcal{Z}(\\beta)^{-N}\\Pi_{i=1}^N \\Omega(E_i)\\exp(-\\beta E_i)\n",
    "\\end{eqnarray}"
   ]
  },
  {
   "cell_type": "markdown",
   "metadata": {},
   "source": [
    "### Configuration generator and binary representation map for configurations"
   ]
  },
  {
   "cell_type": "code",
   "execution_count": null,
   "metadata": {},
   "outputs": [],
   "source": [
    "import itertools, numpy as np\n",
    "\n",
    "def config_gen(L):\n",
    "    '''Function to generate all lattice configurations for a given linear size L '''\n",
    "    perm = [list(seq) for seq in itertools.product(\"ab\", repeat=L*L)]\n",
    "    perm = np.array(perm).reshape(2**(L*L), L, L)\n",
    "    perm = np.where(perm==\"a\", 1, -1)\n",
    "    return perm\n",
    "\n",
    "def binary_rep(M):\n",
    "    ''' Function to map configurations to binary then a number between 0 and 2**N-1  '''\n",
    "    N=np.shape(M)[0]\n",
    "    M=np.reshape(M,N*N)\n",
    "    M=np.where(M==-1,0,1)\n",
    "    return sum([M[i]*2**i for i in range(len(M))])"
   ]
  },
  {
   "cell_type": "code",
   "execution_count": null,
   "metadata": {},
   "outputs": [],
   "source": []
  }
 ],
 "metadata": {
  "kernelspec": {
   "display_name": "base",
   "language": "python",
   "name": "python3"
  },
  "language_info": {
   "name": "python",
   "version": "3.11.5"
  }
 },
 "nbformat": 4,
 "nbformat_minor": 2
}
